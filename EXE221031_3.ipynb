{
  "nbformat": 4,
  "nbformat_minor": 0,
  "metadata": {
    "colab": {
      "provenance": [],
      "authorship_tag": "ABX9TyM5bU+7KIYILFHMw561yPrU",
      "include_colab_link": true
    },
    "kernelspec": {
      "name": "python3",
      "display_name": "Python 3"
    },
    "language_info": {
      "name": "python"
    }
  },
  "cells": [
    {
      "cell_type": "markdown",
      "metadata": {
        "id": "view-in-github",
        "colab_type": "text"
      },
      "source": [
        "<a href=\"https://colab.research.google.com/github/jaeyoung1122/EXE221031-3/blob/main/EXE221031_3.ipynb\" target=\"_parent\"><img src=\"https://colab.research.google.com/assets/colab-badge.svg\" alt=\"Open In Colab\"/></a>"
      ]
    },
    {
      "cell_type": "code",
      "execution_count": 8,
      "metadata": {
        "colab": {
          "base_uri": "https://localhost:8080/"
        },
        "id": "NUjQYZLk0pxY",
        "outputId": "550d456e-e358-4aa0-f149-b0491ed485f7"
      },
      "outputs": [
        {
          "output_type": "stream",
          "name": "stdout",
          "text": [
            "X의 값을 입력하시오.:10\n",
            "Y의 값을 입력하시오.:20\n",
            "x와 y의 합은:  30\n",
            "x와 y의 차는:  -10\n",
            "x와 y의 곱은:  200\n",
            "x와 y의 합는:  15.0\n",
            "x와 y의 큰수는:  20\n",
            "x와 y의 작은수:  10\n"
          ]
        }
      ],
      "source": [
        "x=int(input(\"X의 값을 입력하시오.:\"))\n",
        "y=int(input(\"Y의 값을 입력하시오.:\"))\n",
        "\n",
        "print(\"x와 y의 합은: \",x+y)\n",
        "print(\"x와 y의 차는: \",x-y)\n",
        "print(\"x와 y의 곱은: \",x*y)\n",
        "print(\"x와 y의 합는: \",(x+y)/2)\n",
        "print(\"x와 y의 큰수는: \", max(x,y))\n",
        "print(\"x와 y의 작은수: \", min(x,y))"
      ]
    },
    {
      "cell_type": "code",
      "source": [
        "r = float(input(\"r값을 입력하시오: \")) #변수 r의 값을 사용자로부터 받는다. float형으로\n",
        "h = float(input(\"h값을 입력하시오: \")) #변수 h의 값을 사용자로부터 받는다. float\n",
        "vol = 3.141592 * r**2 * h\n",
        "print(\"원기둥의 부피는:\",vol, \"입니다.\")"
      ],
      "metadata": {
        "colab": {
          "base_uri": "https://localhost:8080/"
        },
        "id": "atVYxk642XgW",
        "outputId": "896c4e2a-f753-446d-8609-2e2d24756f5a"
      },
      "execution_count": 5,
      "outputs": [
        {
          "output_type": "stream",
          "name": "stdout",
          "text": [
            "r값을 입력하시오: 2\n",
            "h값을 입력하시오: 3\n",
            "원기둥의 부피는: 37.699104000000005 입니다.\n"
          ]
        }
      ]
    },
    {
      "cell_type": "code",
      "source": [
        "number=int(input(\"정수를 입력하시오,:\"))\n",
        "sum = 0                # 변수 sum을 초기화 0으로 한다.\n",
        "sum = sum + number % 10\n",
        "number = number // 10\n",
        "sum = sum + number % 10\n",
        "number = number // 10\n",
        "sum = sum + number % 10\n",
        "number = number // 10\n",
        "sum = sum + number % 10\n",
        "number = number // 10\n",
        "sum = sum + number % 10\n",
        "number = number // 10\n",
        "print(\"자리수의 합: \",str(sum))"
      ],
      "metadata": {
        "colab": {
          "base_uri": "https://localhost:8080/"
        },
        "id": "QMGVBegV6WkP",
        "outputId": "294fc4a6-18bb-46d7-a7d4-c8871f68c592"
      },
      "execution_count": 9,
      "outputs": [
        {
          "output_type": "stream",
          "name": "stdout",
          "text": [
            "정수를 입력하시오,:1234\n",
            "자리수의 합:  10\n"
          ]
        }
      ]
    },
    {
      "cell_type": "code",
      "source": [
        "x1 = int(input(\"x1의 값: \"))\n",
        "y1 = int(input(\"y1의 값: \"))\n",
        "\n",
        "x2 = int(input(\"x2의 값: \"))\n",
        "y2 = int(input(\"y2의 값: \"))\n",
        "dist = ((x2-x1)**2 + (y2-y1)**2)**0.5\n",
        "print(\"두점 사이의 거리=\", dist, \"입니다.\")"
      ],
      "metadata": {
        "colab": {
          "base_uri": "https://localhost:8080/"
        },
        "id": "k7wDqHb68NwQ",
        "outputId": "0bb5c325-1232-44d2-bc8b-9d6449dba17a"
      },
      "execution_count": 13,
      "outputs": [
        {
          "output_type": "stream",
          "name": "stdout",
          "text": [
            "x1의 값: 0\n",
            "y1의 값: 0\n",
            "x2의 값: 100\n",
            "y2의 값: 100\n",
            "두점 사이의 거리= 141.4213562373095 입니다.\n"
          ]
        }
      ]
    },
    {
      "cell_type": "code",
      "source": [
        "import time\n",
        "fsecond=time.time()\n",
        "total_sec = int(fsecond)\n",
        "total_min = total_sec // 60\n",
        "minute = total_min % 60\n",
        "total_hour = total_min // 60\n",
        "hour = total_hour % 24\n",
        "\n",
        "print(\"현재시각은 (영국 그리니치 표준시각):\", str(hour) + \"시\"+str(minute)+\"분\")"
      ],
      "metadata": {
        "colab": {
          "base_uri": "https://localhost:8080/"
        },
        "id": "mFw26yu9CRYO",
        "outputId": "1bfbabb2-223b-4073-abb9-4a2212ebab1d"
      },
      "execution_count": 16,
      "outputs": [
        {
          "output_type": "stream",
          "name": "stdout",
          "text": [
            "현재시각은 (영국 그리니치 표준시각): 3시48분\n"
          ]
        }
      ]
    },
    {
      "cell_type": "code",
      "source": [],
      "metadata": {
        "id": "w1ZsuTkALAbT"
      },
      "execution_count": null,
      "outputs": []
    }
  ]
}